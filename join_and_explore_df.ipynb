{
  "cells": [
    {
      "cell_type": "code",
      "execution_count": 1,
      "metadata": {
        "id": "YMQCZkK5PQ6f"
      },
      "outputs": [],
      "source": [
        "import os\n",
        "import pandas as pd\n",
        "import missingno as msno"
      ]
    },
    {
      "cell_type": "code",
      "execution_count": 2,
      "metadata": {},
      "outputs": [],
      "source": [
        "folder_path = \"datasets\"\n",
        "\n",
        "df = pd.DataFrame()\n",
        "for filename in os.listdir(folder_path):\n",
        "    if \"csv\" in filename:\n",
        "      df_ = pd.read_csv(os.path.join(folder_path,filename), index_col = 0)\n",
        "      df = pd.concat([df, df_], ignore_index = True)"
      ]
    },
    {
      "cell_type": "code",
      "execution_count": 3,
      "metadata": {
        "colab": {
          "base_uri": "https://localhost:8080/"
        },
        "id": "kcLcCF45P1H-",
        "outputId": "e630907c-f907-4c30-f46a-1c942b85926e"
      },
      "outputs": [
        {
          "name": "stdout",
          "output_type": "stream",
          "text": [
            "<class 'pandas.core.frame.DataFrame'>\n",
            "RangeIndex: 34286 entries, 0 to 34285\n",
            "Data columns (total 4 columns):\n",
            " #   Column      Non-Null Count  Dtype \n",
            "---  ------      --------------  ----- \n",
            " 0   estilo      34286 non-null  object\n",
            " 1   artist_url  34286 non-null  object\n",
            " 2   song_url    34286 non-null  object\n",
            " 3   lyrics      33650 non-null  object\n",
            "dtypes: object(4)\n",
            "memory usage: 1.0+ MB\n"
          ]
        }
      ],
      "source": [
        "df.info()"
      ]
    },
    {
      "cell_type": "code",
      "execution_count": 4,
      "metadata": {
        "colab": {
          "base_uri": "https://localhost:8080/",
          "height": 192
        },
        "id": "G3GkujmlU8wy",
        "outputId": "954bc628-2495-4b19-bb2a-ffb8e0fa2669"
      },
      "outputs": [
        {
          "data": {
            "text/html": [
              "<div>\n",
              "<style scoped>\n",
              "    .dataframe tbody tr th:only-of-type {\n",
              "        vertical-align: middle;\n",
              "    }\n",
              "\n",
              "    .dataframe tbody tr th {\n",
              "        vertical-align: top;\n",
              "    }\n",
              "\n",
              "    .dataframe thead th {\n",
              "        text-align: right;\n",
              "    }\n",
              "</style>\n",
              "<table border=\"1\" class=\"dataframe\">\n",
              "  <thead>\n",
              "    <tr style=\"text-align: right;\">\n",
              "      <th></th>\n",
              "      <th>estilo</th>\n",
              "      <th>artist_url</th>\n",
              "      <th>song_url</th>\n",
              "      <th>lyrics</th>\n",
              "    </tr>\n",
              "  </thead>\n",
              "  <tbody>\n",
              "    <tr>\n",
              "      <th>count</th>\n",
              "      <td>34286</td>\n",
              "      <td>34286</td>\n",
              "      <td>34286</td>\n",
              "      <td>33650</td>\n",
              "    </tr>\n",
              "    <tr>\n",
              "      <th>unique</th>\n",
              "      <td>9</td>\n",
              "      <td>2439</td>\n",
              "      <td>34240</td>\n",
              "      <td>33420</td>\n",
              "    </tr>\n",
              "    <tr>\n",
              "      <th>top</th>\n",
              "      <td>rok</td>\n",
              "      <td>https://acordes.lacuerda.net/andres_calamaro/</td>\n",
              "      <td>https://acordes.lacuerda.net/hermanos_abalos/a...</td>\n",
              "      <td>(Adentro...)&lt;br&gt;Te vi, no olvidaré...&lt;br&gt;un ca...</td>\n",
              "    </tr>\n",
              "    <tr>\n",
              "      <th>freq</th>\n",
              "      <td>16236</td>\n",
              "      <td>324</td>\n",
              "      <td>4</td>\n",
              "      <td>4</td>\n",
              "    </tr>\n",
              "  </tbody>\n",
              "</table>\n",
              "</div>"
            ],
            "text/plain": [
              "       estilo                                     artist_url  \\\n",
              "count   34286                                          34286   \n",
              "unique      9                                           2439   \n",
              "top       rok  https://acordes.lacuerda.net/andres_calamaro/   \n",
              "freq    16236                                            324   \n",
              "\n",
              "                                                 song_url  \\\n",
              "count                                               34286   \n",
              "unique                                              34240   \n",
              "top     https://acordes.lacuerda.net/hermanos_abalos/a...   \n",
              "freq                                                    4   \n",
              "\n",
              "                                                   lyrics  \n",
              "count                                               33650  \n",
              "unique                                              33420  \n",
              "top     (Adentro...)<br>Te vi, no olvidaré...<br>un ca...  \n",
              "freq                                                    4  "
            ]
          },
          "execution_count": 4,
          "metadata": {},
          "output_type": "execute_result"
        }
      ],
      "source": [
        "df.describe()"
      ]
    },
    {
      "cell_type": "code",
      "execution_count": 5,
      "metadata": {
        "colab": {
          "base_uri": "https://localhost:8080/",
          "height": 293
        },
        "id": "UceKGj_mRCuu",
        "outputId": "8deeee6e-4c4b-46db-f656-a77510c9c30b"
      },
      "outputs": [
        {
          "data": {
            "text/html": [
              "<div>\n",
              "<style scoped>\n",
              "    .dataframe tbody tr th:only-of-type {\n",
              "        vertical-align: middle;\n",
              "    }\n",
              "\n",
              "    .dataframe tbody tr th {\n",
              "        vertical-align: top;\n",
              "    }\n",
              "\n",
              "    .dataframe thead th {\n",
              "        text-align: right;\n",
              "    }\n",
              "</style>\n",
              "<table border=\"1\" class=\"dataframe\">\n",
              "  <thead>\n",
              "    <tr style=\"text-align: right;\">\n",
              "      <th></th>\n",
              "      <th>estilo</th>\n",
              "      <th>artist_url</th>\n",
              "      <th>song_url</th>\n",
              "      <th>lyrics</th>\n",
              "    </tr>\n",
              "  </thead>\n",
              "  <tbody>\n",
              "    <tr>\n",
              "      <th>0</th>\n",
              "      <td>bal</td>\n",
              "      <td>https://acordes.lacuerda.net/alberto_cortez/</td>\n",
              "      <td>https://acordes.lacuerda.net/alberto_cortez/a_...</td>\n",
              "      <td>A MIS AMIGOS LES ADEUDO LA TERNURA&lt;br&gt;Y LAS PA...</td>\n",
              "    </tr>\n",
              "    <tr>\n",
              "      <th>1</th>\n",
              "      <td>bal</td>\n",
              "      <td>https://acordes.lacuerda.net/alberto_cortez/</td>\n",
              "      <td>https://acordes.lacuerda.net/alberto_cortez/a_...</td>\n",
              "      <td>A partir de mañana empezaré a vivir la mitad d...</td>\n",
              "    </tr>\n",
              "    <tr>\n",
              "      <th>2</th>\n",
              "      <td>bal</td>\n",
              "      <td>https://acordes.lacuerda.net/alberto_cortez/</td>\n",
              "      <td>https://acordes.lacuerda.net/alberto_cortez/am...</td>\n",
              "      <td>Yo puse el esfuerzo y ella la desgana&lt;br&gt;yo el...</td>\n",
              "    </tr>\n",
              "    <tr>\n",
              "      <th>3</th>\n",
              "      <td>bal</td>\n",
              "      <td>https://acordes.lacuerda.net/alberto_cortez/</td>\n",
              "      <td>https://acordes.lacuerda.net/alberto_cortez/am...</td>\n",
              "      <td>¿No sabes dónde puse mis anteojos?&lt;br&gt;me estoy...</td>\n",
              "    </tr>\n",
              "    <tr>\n",
              "      <th>4</th>\n",
              "      <td>bal</td>\n",
              "      <td>https://acordes.lacuerda.net/alberto_cortez/</td>\n",
              "      <td>https://acordes.lacuerda.net/alberto_cortez/ap...</td>\n",
              "      <td>apoya sobre mi hombro&lt;br&gt;tu cabellera de espum...</td>\n",
              "    </tr>\n",
              "  </tbody>\n",
              "</table>\n",
              "</div>"
            ],
            "text/plain": [
              "  estilo                                    artist_url  \\\n",
              "0    bal  https://acordes.lacuerda.net/alberto_cortez/   \n",
              "1    bal  https://acordes.lacuerda.net/alberto_cortez/   \n",
              "2    bal  https://acordes.lacuerda.net/alberto_cortez/   \n",
              "3    bal  https://acordes.lacuerda.net/alberto_cortez/   \n",
              "4    bal  https://acordes.lacuerda.net/alberto_cortez/   \n",
              "\n",
              "                                            song_url  \\\n",
              "0  https://acordes.lacuerda.net/alberto_cortez/a_...   \n",
              "1  https://acordes.lacuerda.net/alberto_cortez/a_...   \n",
              "2  https://acordes.lacuerda.net/alberto_cortez/am...   \n",
              "3  https://acordes.lacuerda.net/alberto_cortez/am...   \n",
              "4  https://acordes.lacuerda.net/alberto_cortez/ap...   \n",
              "\n",
              "                                              lyrics  \n",
              "0  A MIS AMIGOS LES ADEUDO LA TERNURA<br>Y LAS PA...  \n",
              "1  A partir de mañana empezaré a vivir la mitad d...  \n",
              "2  Yo puse el esfuerzo y ella la desgana<br>yo el...  \n",
              "3  ¿No sabes dónde puse mis anteojos?<br>me estoy...  \n",
              "4  apoya sobre mi hombro<br>tu cabellera de espum...  "
            ]
          },
          "execution_count": 5,
          "metadata": {},
          "output_type": "execute_result"
        }
      ],
      "source": [
        "df.head()"
      ]
    },
    {
      "cell_type": "code",
      "execution_count": 6,
      "metadata": {
        "colab": {
          "base_uri": "https://localhost:8080/",
          "height": 956
        },
        "id": "a0U6wWs1WsqZ",
        "outputId": "b54aed8f-4394-4c30-c703-1b48aeda6560"
      },
      "outputs": [
        {
          "data": {
            "text/plain": [
              "<Axes: >"
            ]
          },
          "execution_count": 6,
          "metadata": {},
          "output_type": "execute_result"
        },
        {
          "data": {
            "image/png": "[encoded data removed]",
            "text/plain": [
              "<Figure size 2500x1000 with 2 Axes>"
            ]
          },
          "metadata": {},
          "output_type": "display_data"
        }
      ],
      "source": [
        "msno.matrix(df)"
      ]
    },
    {
      "cell_type": "code",
      "execution_count": 7,
      "metadata": {
        "colab": {
          "base_uri": "https://localhost:8080/"
        },
        "id": "fkYz5iC0XJEF",
        "outputId": "17cf600b-537d-4c5e-e014-3beb5d53dd85"
      },
      "outputs": [
        {
          "data": {
            "text/plain": [
              "636"
            ]
          },
          "execution_count": 7,
          "metadata": {},
          "output_type": "execute_result"
        }
      ],
      "source": [
        "# ¿Hay canciones sin letra?\n",
        "df.lyrics.isnull().sum()"
      ]
    },
    {
      "cell_type": "code",
      "execution_count": 32,
      "metadata": {
        "colab": {
          "base_uri": "https://localhost:8080/"
        },
        "id": "gly_3tr9PccN",
        "outputId": "a26c39e0-468b-41e9-e387-ef9d99d41c0b"
      },
      "outputs": [
        {
          "data": {
            "text/plain": [
              "46"
            ]
          },
          "execution_count": 32,
          "metadata": {},
          "output_type": "execute_result"
        }
      ],
      "source": [
        "# ¿Hay duplicados?\n",
        "df.duplicated().sum()"
      ]
    },
    {
      "cell_type": "code",
      "execution_count": 47,
      "metadata": {
        "colab": {
          "base_uri": "https://localhost:8080/",
          "height": 1000
        },
        "id": "DgU8FWDXUQMZ",
        "outputId": "c65bae27-8686-46f7-feda-64b756a07bad"
      },
      "outputs": [
        {
          "data": {
            "text/html": [
              "<div>\n",
              "<style scoped>\n",
              "    .dataframe tbody tr th:only-of-type {\n",
              "        vertical-align: middle;\n",
              "    }\n",
              "\n",
              "    .dataframe tbody tr th {\n",
              "        vertical-align: top;\n",
              "    }\n",
              "\n",
              "    .dataframe thead th {\n",
              "        text-align: right;\n",
              "    }\n",
              "</style>\n",
              "<table border=\"1\" class=\"dataframe\">\n",
              "  <thead>\n",
              "    <tr style=\"text-align: right;\">\n",
              "      <th></th>\n",
              "      <th>estilo</th>\n",
              "      <th>artist_url</th>\n",
              "      <th>song_url</th>\n",
              "      <th>lyrics</th>\n",
              "    </tr>\n",
              "  </thead>\n",
              "  <tbody>\n",
              "    <tr>\n",
              "      <th>3603</th>\n",
              "      <td>gru</td>\n",
              "      <td>https://acordes.lacuerda.net/hermanos_abalos/</td>\n",
              "      <td>https://acordes.lacuerda.net/hermanos_abalos/a...</td>\n",
              "      <td>(Adentro...)&lt;br&gt;Te vi, no olvidaré...&lt;br&gt;un ca...</td>\n",
              "    </tr>\n",
              "    <tr>\n",
              "      <th>3604</th>\n",
              "      <td>gru</td>\n",
              "      <td>https://acordes.lacuerda.net/hermanos_abalos/</td>\n",
              "      <td>https://acordes.lacuerda.net/hermanos_abalos/a...</td>\n",
              "      <td>(Adentro...)&lt;br&gt;Te vi, no olvidaré...&lt;br&gt;un ca...</td>\n",
              "    </tr>\n",
              "    <tr>\n",
              "      <th>3605</th>\n",
              "      <td>gru</td>\n",
              "      <td>https://acordes.lacuerda.net/hermanos_abalos/</td>\n",
              "      <td>https://acordes.lacuerda.net/hermanos_abalos/a...</td>\n",
              "      <td>(Adentro...)&lt;br&gt;Te vi, no olvidaré...&lt;br&gt;un ca...</td>\n",
              "    </tr>\n",
              "    <tr>\n",
              "      <th>3794</th>\n",
              "      <td>gru</td>\n",
              "      <td>https://acordes.lacuerda.net/rancheros/</td>\n",
              "      <td>https://acordes.lacuerda.net/rancheros/dame_ot...</td>\n",
              "      <td>Dame otra oportunidad&lt;br&gt;necesito verte una ve...</td>\n",
              "    </tr>\n",
              "    <tr>\n",
              "      <th>4553</th>\n",
              "      <td>pop</td>\n",
              "      <td>https://acordes.lacuerda.net/floricienta_y_su_...</td>\n",
              "      <td>https://acordes.lacuerda.net/floricienta_y_su_...</td>\n",
              "      <td>Miro caer las gotas,&lt;br&gt;la lluvia en mi ventan...</td>\n",
              "    </tr>\n",
              "  </tbody>\n",
              "</table>\n",
              "</div>"
            ],
            "text/plain": [
              "     estilo                                         artist_url  \\\n",
              "3603    gru      https://acordes.lacuerda.net/hermanos_abalos/   \n",
              "3604    gru      https://acordes.lacuerda.net/hermanos_abalos/   \n",
              "3605    gru      https://acordes.lacuerda.net/hermanos_abalos/   \n",
              "3794    gru            https://acordes.lacuerda.net/rancheros/   \n",
              "4553    pop  https://acordes.lacuerda.net/floricienta_y_su_...   \n",
              "\n",
              "                                               song_url  \\\n",
              "3603  https://acordes.lacuerda.net/hermanos_abalos/a...   \n",
              "3604  https://acordes.lacuerda.net/hermanos_abalos/a...   \n",
              "3605  https://acordes.lacuerda.net/hermanos_abalos/a...   \n",
              "3794  https://acordes.lacuerda.net/rancheros/dame_ot...   \n",
              "4553  https://acordes.lacuerda.net/floricienta_y_su_...   \n",
              "\n",
              "                                                 lyrics  \n",
              "3603  (Adentro...)<br>Te vi, no olvidaré...<br>un ca...  \n",
              "3604  (Adentro...)<br>Te vi, no olvidaré...<br>un ca...  \n",
              "3605  (Adentro...)<br>Te vi, no olvidaré...<br>un ca...  \n",
              "3794  Dame otra oportunidad<br>necesito verte una ve...  \n",
              "4553  Miro caer las gotas,<br>la lluvia en mi ventan...  "
            ]
          },
          "execution_count": 47,
          "metadata": {},
          "output_type": "execute_result"
        }
      ],
      "source": [
        "df[df.duplicated()].head()"
      ]
    },
    {
      "cell_type": "code",
      "execution_count": 22,
      "metadata": {},
      "outputs": [
        {
          "data": {
            "text/plain": [
              "2439"
            ]
          },
          "execution_count": 22,
          "metadata": {},
          "output_type": "execute_result"
        }
      ],
      "source": [
        "# Cantidad de artistas únicos\n",
        "len(df.artist_url.unique())"
      ]
    },
    {
      "cell_type": "code",
      "execution_count": 15,
      "metadata": {
        "colab": {
          "base_uri": "https://localhost:8080/",
          "height": 742
        },
        "id": "t0cPwPE2TQs6",
        "outputId": "802a821e-9423-4bbf-d84a-811d5730145d"
      },
      "outputs": [
        {
          "data": {
            "text/plain": [
              "artist_url\n",
              "https://acordes.lacuerda.net/andres_calamaro/           324\n",
              "https://acordes.lacuerda.net/chalchaleros/              283\n",
              "https://acordes.lacuerda.net/fito_paez/                 272\n",
              "https://acordes.lacuerda.net/sabroso/                   252\n",
              "https://acordes.lacuerda.net/luis_a_spinetta/           247\n",
              "https://acordes.lacuerda.net/carlitos_mona_jimenez/     246\n",
              "https://acordes.lacuerda.net/charly_garcia/             231\n",
              "https://acordes.lacuerda.net/manseros_santiaguenios/    212\n",
              "https://acordes.lacuerda.net/attaque_77/                208\n",
              "https://acordes.lacuerda.net/mercedes_sosa/             196\n",
              "https://acordes.lacuerda.net/babasonicos/               196\n",
              "https://acordes.lacuerda.net/chaquenio_palavecino/      189\n",
              "https://acordes.lacuerda.net/nocheros/                  174\n",
              "https://acordes.lacuerda.net/bersuit/                   168\n",
              "https://acordes.lacuerda.net/pastillas_del_abuelo/      166\n",
              "https://acordes.lacuerda.net/leon_gieco/                166\n",
              "https://acordes.lacuerda.net/patricio_rey/              159\n",
              "https://acordes.lacuerda.net/jose_larralde/             155\n",
              "https://acordes.lacuerda.net/miguel_mateos/             153\n",
              "https://acordes.lacuerda.net/enanitos/                  151\n",
              "Name: count, dtype: int64"
            ]
          },
          "execution_count": 15,
          "metadata": {},
          "output_type": "execute_result"
        }
      ],
      "source": [
        "# Artistas más representados\n",
        "df.artist_url.value_counts()[0:20]"
      ]
    },
    {
      "cell_type": "code",
      "execution_count": 14,
      "metadata": {
        "colab": {
          "base_uri": "https://localhost:8080/",
          "height": 366
        },
        "id": "IZsb7jRPP-Y0",
        "outputId": "d535f5d6-1556-4d7d-a508-dd01d21adb6b"
      },
      "outputs": [
        {
          "data": {
            "text/plain": [
              "estilo\n",
              "rok    16236\n",
              "tra     5983\n",
              "tro     4231\n",
              "can     2609\n",
              "pop     2050\n",
              "rel     1145\n",
              "bal      973\n",
              "rom      668\n",
              "gru      391\n",
              "Name: count, dtype: int64"
            ]
          },
          "execution_count": 14,
          "metadata": {},
          "output_type": "execute_result"
        }
      ],
      "source": [
        "# Análisis por estilo\n",
        "estilos = df.estilo.unique()\n",
        "df.estilo.value_counts()"
      ]
    },
    {
      "cell_type": "code",
      "execution_count": 45,
      "metadata": {},
      "outputs": [],
      "source": [
        "estilo_dict = {\n",
        "    \"rok\": \"Rock\",\n",
        "    \"tra\": \"Tradicional\",\n",
        "    \"tro\": \"Tropical\",\n",
        "    \"can\": \"Cantautor\",\n",
        "    \"pop\": \"Pop\",\n",
        "    \"rel\": \"Religioso\",\n",
        "    \"bal\": \"Balada\",\n",
        "    \"rom\": \"Romántico\",\n",
        "    \"gru\": \"Grupero\"\n",
        "}"
      ]
    },
    {
      "cell_type": "code",
      "execution_count": 46,
      "metadata": {},
      "outputs": [
        {
          "name": "stdout",
          "output_type": "stream",
          "text": [
            "Top 5 artistas más representados de Balada:\n",
            "sandro - alberto_cortez - pimpinela - diego_verdaguer - kevin_johansen\n",
            "Top 5 artistas más representados de Cantautor:\n",
            "leon_gieco - axel_fernando - ignacio_copani - victor_heredia - piero\n",
            "Top 5 artistas más representados de Grupero:\n",
            "konga - rancheros - perota_chingo - hermanos_abalos - cachitas_now\n",
            "Top 5 artistas más representados de Pop:\n",
            "sandra_mihanovich - diego_torres - miranda - coti - ariel_rot\n",
            "Top 5 artistas más representados de Religioso:\n",
            "abel_pintos - puerto_seguro - claudio_freidzon - eduardo_meana - daniel_poli\n",
            "Top 5 artistas más representados de Rock:\n",
            "andres_calamaro - fito_paez - luis_a_spinetta - charly_garcia - attaque_77\n",
            "Top 5 artistas más representados de Romántico:\n",
            "leo_dan - marcela_morelo - lamas - violetta - leonardo_favio\n",
            "Top 5 artistas más representados de Tradicional:\n",
            "chalchaleros - manseros_santiaguenios - mercedes_sosa - chaquenio_palavecino - nocheros\n",
            "Top 5 artistas más representados de Tropical:\n",
            "sabroso - carlitos_mona_jimenez - leo_mattioli - damas_gratis - q_lokura\n"
          ]
        }
      ],
      "source": [
        "# Artistas más representados por estilo\n",
        "for estilo in estilos:\n",
        "    print(f\"Top 5 artistas más representados de {estilo_dict[estilo]}:\")\n",
        "    print(' - '.join(df[df.estilo == estilo].artist_url.value_counts()[0:5].index).replace(\"https://acordes.lacuerda.net/\", \"\").replace(\"/\", \"\"))"
      ]
    }
  ],
  "metadata": {
    "colab": {
      "provenance": []
    },
    "kernelspec": {
      "display_name": "Python 3",
      "name": "python3"
    },
    "language_info": {
      "codemirror_mode": {
        "name": "ipython",
        "version": 3
      },
      "file_extension": ".py",
      "mimetype": "text/x-python",
      "name": "python",
      "nbconvert_exporter": "python",
      "pygments_lexer": "ipython3",
      "version": "3.10.12"
    }
  },
  "nbformat": 4,
  "nbformat_minor": 0
}
